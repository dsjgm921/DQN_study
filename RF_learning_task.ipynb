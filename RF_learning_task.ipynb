{
  "nbformat": 4,
  "nbformat_minor": 0,
  "metadata": {
    "colab": {
      "provenance": []
    },
    "kernelspec": {
      "name": "python3",
      "display_name": "Python 3"
    },
    "language_info": {
      "name": "python"
    }
  },
  "cells": [
    {
      "cell_type": "markdown",
      "source": [
        "## Reinforcement Learning"
      ],
      "metadata": {
        "id": "8q_t0zT22Bo1"
      }
    },
    {
      "cell_type": "markdown",
      "source": [
        "### install required pacakges for RF in colab"
      ],
      "metadata": {
        "id": "J0VunHD7xNIW"
      }
    },
    {
      "cell_type": "code",
      "execution_count": null,
      "metadata": {
        "colab": {
          "base_uri": "https://localhost:8080/"
        },
        "id": "_EGUYLlyxEQR",
        "outputId": "a25a6325-cc08-4c30-fda0-a50ec92b68e5"
      },
      "outputs": [
        {
          "output_type": "stream",
          "name": "stdout",
          "text": [
            "Looking in indexes: https://pypi.org/simple, https://us-python.pkg.dev/colab-wheels/public/simple/\n",
            "Requirement already satisfied: gym[classic_control] in /usr/local/lib/python3.8/dist-packages (0.25.2)\n",
            "Requirement already satisfied: cloudpickle>=1.2.0 in /usr/local/lib/python3.8/dist-packages (from gym[classic_control]) (1.5.0)\n",
            "Requirement already satisfied: importlib-metadata>=4.8.0 in /usr/local/lib/python3.8/dist-packages (from gym[classic_control]) (5.1.0)\n",
            "Requirement already satisfied: numpy>=1.18.0 in /usr/local/lib/python3.8/dist-packages (from gym[classic_control]) (1.21.6)\n",
            "Requirement already satisfied: gym-notices>=0.0.4 in /usr/local/lib/python3.8/dist-packages (from gym[classic_control]) (0.0.8)\n",
            "Collecting pygame==2.1.0\n",
            "  Downloading pygame-2.1.0-cp38-cp38-manylinux_2_17_x86_64.manylinux2014_x86_64.whl (18.3 MB)\n",
            "\u001b[K     |████████████████████████████████| 18.3 MB 5.3 MB/s \n",
            "\u001b[?25hRequirement already satisfied: zipp>=0.5 in /usr/local/lib/python3.8/dist-packages (from importlib-metadata>=4.8.0->gym[classic_control]) (3.11.0)\n",
            "Installing collected packages: pygame\n",
            "Successfully installed pygame-2.1.0\n"
          ]
        }
      ],
      "source": [
        "pip install gym[classic_control]"
      ]
    },
    {
      "cell_type": "markdown",
      "source": [
        "### RF_ import modules and basic configurations"
      ],
      "metadata": {
        "id": "ecMeopeOxZbI"
      }
    },
    {
      "cell_type": "code",
      "source": [
        "# gym library for reinforcement learning\n",
        "import gym\n",
        "\n",
        "# math and random library for math modules and random numbers \n",
        "import math\n",
        "import random\n",
        "\n",
        "# numpy library \n",
        "import numpy as np\n",
        "\n",
        "# matplotlib for visualization \n",
        "import matplotlib\n",
        "import matplotlib.pyplot as plt\n",
        "\n",
        "# collections library for data structures \n",
        "from collections import namedtuple, deque\n",
        "\n",
        "from itertools import count\n",
        "\n",
        "# torch library \n",
        "import torch\n",
        "import torch.nn as nn\n",
        "import torch.optim as optim\n",
        "import torch.nn.functional as F"
      ],
      "metadata": {
        "id": "s3VIFu_exE-h"
      },
      "execution_count": null,
      "outputs": []
    },
    {
      "cell_type": "code",
      "source": [
        "# specified certain version of gym library\n",
        "# and exceptions \n",
        "\n",
        "if gym.__version__[:4] == '0.26':\n",
        "    env = gym.make('CartPole-v1')\n",
        "elif gym.__version__[:4] == '0.25':\n",
        "    env = gym.make('CartPole-v1', new_step_api=True)\n",
        "else:\n",
        "    raise ImportError(f\"Requires gym v25 or v26, actual version: {gym.__version__}\")\n",
        "\n",
        "# If one's environment is jupyter or collab , the code and the return is as follows  \n",
        "# \" is_ipython = True \"\n",
        "#\n",
        "\n",
        "# set up matplotlib inline function \n",
        "# you can display images inside jupyter / colab , below code\n",
        "is_ipython = 'inline' in matplotlib.get_backend()\n",
        "\n",
        "# When you enable the ‘inline’ matplotlib backend, \n",
        "# the output of the plotting commands written will be displayed inline within the frontends like jupyter notebook. \n",
        "# It means, the plot/graph will be displayed directly below the cell (where the plotting commands are written) \n",
        "# and the resulted plot/graph will also be included (stored) in your notebook document.\n",
        "\n",
        "if is_ipython:\n",
        "    from IPython import display\n",
        "\n",
        "# an example on how to use IPython display  \n",
        "# from IPython.display import Image\n",
        "# Image(filename='test.png') \n",
        "\n",
        "#the function to turn on interactive mode ( I.nteractivemode O.N.  = ion )\n",
        "plt.ion()\n",
        "\n",
        "# if gpu is to be used\n",
        "# set device to cuda , and accelerate if cuda is available \n",
        "# else, set train device to cpu \n",
        "\n",
        "device = torch.device(\"cuda\" if torch.cuda.is_available() else \"cpu\")"
      ],
      "metadata": {
        "id": "kSvTOZzxzxnL"
      },
      "execution_count": null,
      "outputs": []
    },
    {
      "cell_type": "code",
      "source": [
        "# How to make nametuple identity \n",
        "\n",
        "from collections import namedtuple\n",
        "\n",
        "# namedtuple_structure_name as variable = namedtuple(tuplename,[tuple1,tuple2,tuple3,tuple4]) \n",
        "Employee = namedtuple('Employee',['first_name', 'last_name', 'country', 'jobs'])\n",
        "\n",
        "# identity_name = namedtuple_structure_name(tuple1,tuple2,tuple3,tuple4)\n",
        "andrew = Employee('Andrew', 'Brown', 'US', ['Developer', 'Manager'])\n",
        "\n",
        "print(andrew)"
      ],
      "metadata": {
        "colab": {
          "base_uri": "https://localhost:8080/"
        },
        "id": "SYE6ANb63GMX",
        "outputId": "0b16477c-927c-4cf3-ff1b-a78c9d019651"
      },
      "execution_count": null,
      "outputs": [
        {
          "output_type": "stream",
          "name": "stdout",
          "text": [
            "Employee(first_name='Andrew', last_name='Brown', country='US', jobs=['Developer', 'Manager'])\n"
          ]
        }
      ]
    },
    {
      "cell_type": "code",
      "source": [
        "# namedtuple example \n",
        "\n",
        "hoji = Employee('Hoji','Kim',\"KR\",['Developer'])\n",
        "print(hoji)"
      ],
      "metadata": {
        "colab": {
          "base_uri": "https://localhost:8080/"
        },
        "id": "iNG5FeDy3HaD",
        "outputId": "334de3f9-5853-47e1-ae0c-9ef7f3424e20"
      },
      "execution_count": null,
      "outputs": [
        {
          "output_type": "stream",
          "name": "stdout",
          "text": [
            "Employee(first_name='Hoji', last_name='Kim', country='KR', jobs=['Developer'])\n"
          ]
        }
      ]
    },
    {
      "cell_type": "code",
      "source": [
        "# how to use namedtuple? \n",
        "# feable examples\n",
        "\n",
        "print(f'first_name by index[0]\\t: {hoji[0]}') \n",
        "print(f'last_name by index[1]\\t: {hoji[1]}') \n",
        "print(f'country by index[2]\\t: {hoji[2]} \\n') \n",
        "\n",
        "print(f'first_name by attribute\\t:{hoji.first_name}') \n",
        "print(f'last_name by attribute\\t:{hoji.last_name}') \n",
        "print(f'jobs by attribute\\t:{hoji.jobs}') \n",
        "\n",
        "#Employee(*args)"
      ],
      "metadata": {
        "colab": {
          "base_uri": "https://localhost:8080/"
        },
        "id": "7cjxCyzb3pbE",
        "outputId": "af88dae0-f4d1-44c7-90da-1dad3870a87d"
      },
      "execution_count": null,
      "outputs": [
        {
          "output_type": "stream",
          "name": "stdout",
          "text": [
            "first_name by index[0]\t: Hoji\n",
            "last_name by index[1]\t: Kim\n",
            "country by index[2]\t: KR \n",
            "\n",
            "first_name by attribute\t:Hoji\n",
            "last_name by attribute\t:Kim\n",
            "jobs by attribute\t:['Developer']\n"
          ]
        }
      ]
    },
    {
      "cell_type": "code",
      "source": [
        "# Transition - a named tuple representing a single transition in our environment. \n",
        "# It essentially maps (state, action) pairs to their (next_state, reward) result, \n",
        "# with the state being the screen difference image as described later on.\n",
        "\n",
        "# In Python, most people don’t know — or usually forget about — \n",
        "# is that the language comes with an extension type called Named Tuple that is built on top of the core tuple type.\n",
        "\n",
        "# So, what is namedtuple?\n",
        "# can use indexes and attribute for lookup ( dic + list ?? )\n",
        "# “factory function for creating tuple subclasses with named fields“ — Python docs\n",
        "\n",
        "Transition = namedtuple('Transition',\n",
        "                        ('state', 'action', 'next_state', 'reward'))\n",
        "\n",
        "\n",
        "# what is replaymemory \n",
        "# ReplayMemory - a cyclic buffer of bounded size that holds the transitions observed recently. \n",
        "# 일정한 크기의 제한된 순환식 버퍼를 가지고 트랜지션 정보를 최신순으로 계속 받고 내보내는 일종의 데크 구조?라고 보면 되나 \n",
        "\n",
        "# It also implements a .sample() method for selecting a random batch of transitions for training.\n",
        "# 가지고 있는 버퍼에서 랜덤 배치로 자료를 선택하여 트레이닝도 가능하다. \n",
        "\n",
        "# 리플레이 메모리는 object를 부모클래스로 상속받은 자식클래스 \n",
        "# 리플레이메모리(오브젝트)\n",
        "# 자식클래스(부모클래스)\n",
        "\n",
        "# what is object class in python\n",
        "# 파이썬 3 코드에서 굳이 object를 상속시켜 주는 이유는 대개 파이썬 2와의 호환성 혹은 작성 취향 때문이다.\n",
        "# 레퍼런스 : https://jh-bk.tistory.com/24\n",
        "# 파이썬 3에선 old-style class를 만들 수 있는 방법은 공식적으론 없으며, 모든 클래스는 object를 상속받는 new-style class라고 보면 된다.\n",
        "\n",
        "# 따라서 class ReplayMemory(object) == class ReplayMemory() ?? seems like it \n",
        "\n",
        "class ReplayMemory(object):\n",
        "    \n",
        "    # initialization function \n",
        "    def __init__(self, capacity):\n",
        "        self.memory = deque([],maxlen=capacity)\n",
        "    \n",
        "    # memory.push(state, action, next_state, reward)\n",
        "    # usage is like this ---> push(Transition(\"*args -> state,action,next_state,reward\")) \n",
        "    def push(self, *args):\n",
        "        \"\"\"Save a transition\"\"\"\n",
        "        self.memory.append(Transition(*args))\n",
        "\n",
        "    def sample(self, batch_size):\n",
        "        return random.sample(self.memory, batch_size)\n",
        "    \n",
        "    # what is def__len__()???? \n",
        "\n",
        "    # when we call len(s) method, s.__len__() is what actually happening behind the scenes to calculate the length.\n",
        "    # def len(s):\n",
        "    # return s.__len__()\n",
        "\n",
        "    def __len__(self):\n",
        "        return len(self.memory)"
      ],
      "metadata": {
        "id": "c4ziV_qZxGL_"
      },
      "execution_count": null,
      "outputs": []
    },
    {
      "cell_type": "code",
      "source": [
        "# inherits torch nn.Module \n",
        "# Deep Q Network \n",
        "\n",
        "\n",
        "class DQN(nn.Module):\n",
        "    # DQN은 initialized 될 때 DQN(n_obs,n_actions) 으로 동작한다 \n",
        "\n",
        "    def __init__(self, n_observations, n_actions):\n",
        "        \n",
        "        # super().__init__() → python 3 에서만 작동\n",
        "        # super(클래스,self).__init__() → python 2,3 모두 작동\n",
        "        # DQN 에서 nn.Module 의 함수들을 사용하겠다\n",
        "\n",
        "        super(DQN, self).__init__()\n",
        "\n",
        "        # DQN의 layer1,2,3  \n",
        "        self.layer1 = nn.Linear(n_observations, 128)\n",
        "        self.layer2 = nn.Linear(128, 128)\n",
        "        self.layer3 = nn.Linear(128, n_actions)\n",
        "\n",
        "    # Called with either one element to determine next action, or a batch\n",
        "    # during optimization. Returns tensor([[left0exp,right0exp]...]).\n",
        "    \n",
        "    # 일반적인 연결구조 \n",
        "    # One element를 return 하면 다음에 취할 액션이 리턴될 것 \n",
        "    def forward(self, x):\n",
        "        x = F.relu(self.layer1(x))\n",
        "        x = F.relu(self.layer2(x))\n",
        "        return self.layer3(x)"
      ],
      "metadata": {
        "id": "vjhzCGDXxz32"
      },
      "execution_count": null,
      "outputs": []
    },
    {
      "cell_type": "code",
      "source": [
        "# Deterministic Environment \n",
        "\n",
        "# Q - Learning Idea\n",
        "# The main idea behind Q-learning is that \n",
        "# if we had a function Q*: State X Action -> R \n",
        "# that could tell us what our return would be, \n",
        "\n",
        "# 함수 Q(상태,행동)가 있다면 어떤 상태에서 특정 행동을 취함으로써 얻는 보상을 알 수 있다.\n",
        "# 주어진 상황에서 행동을 취한다고 가정하면 보상을 극대화 하는 폴리시를 쉽게 구성할 수 있다.\n",
        "\n",
        "# DQN - Learning Idea \n",
        "# given Q(s,a) -> R를 모르니, 뉴럴 네트워크로 근사(Resemble)한다 \n",
        "\n",
        "\n",
        "# BATCH_SIZE is the number of transitions sampled from the replay buffer\n",
        "# works like this \n",
        "# memory = ReplayMemory(10000)\n",
        "# transitions = memory.sample(BATCH_SIZE)\n",
        "\n",
        "# 리플레이 메모리 클래스를 할당받은 메모리에서 128만큼 배치 사이즈를 랜덤으로 샘플링하겠다 \n",
        "BATCH_SIZE = 128\n",
        "\n",
        "# GAMMA is the discount factor as mentioned in the previous section\n",
        "# constant between 0 ~ 1 -> sum must be converged\n",
        "GAMMA = 0.99\n",
        "\n",
        "# policy(S) = argmax(current State, action)\n",
        "# 현 상태에서 어떤 액션을 취했을때 가장 높은 Q-value를 리턴하는 폴리시\n",
        "\n",
        "# every Q function for some policy obeys the Bellman equation:\n",
        "# Q(policy(state,action)) = { return + gamma(Q(policy(next state, policy(next state))) }\n",
        "# temporal difference error = Q(policy(state,action)) - { return + gamma(Q(policy(next state, policy(next state))) }\n",
        "# uses Huber loss \n",
        "\n",
        "\n",
        "# Epsilon parameter\n",
        "# Uses Epsilon greedy policy \n",
        "# controls the rate of the decay (higher = slower decay )\n",
        "EPS_DECAY = 1000\n",
        "\n",
        "# Epsilon start value , 0.9 \n",
        "EPS_START = 0.9\n",
        "# Epsilon end value , 0.05 \n",
        "# 0.9 -> exp_decay towards -> 0.05 \n",
        "EPS_END = 0.05\n",
        "\n",
        "# TAU is the update rate of the target network\n",
        "TAU = 0.005\n",
        "\n",
        "# LR is the learning rate of the AdamW optimizer\n",
        "LR = 1e-4\n",
        "\n",
        "# Get number of actions from gym action space\n",
        "# print(\"n_actions\", n_actions) -> 2 \n",
        "# Q(s,left) or Q(s,right)\n",
        "n_actions = env.action_space.n\n",
        "# print(\"n_actions\", n_actions)\n",
        "\n",
        "# Get the number of state observations\n",
        "if gym.__version__[:4] == '0.26':\n",
        "    state, _ = env.reset()\n",
        "elif gym.__version__[:4] == '0.25':\n",
        "    state, _ = env.reset(return_info=True)\n",
        "\n",
        "# n_observations = 4 \n",
        "# DQN에서는 기본적으로 4개의 연속된 observation들이 들어감으로서 \n",
        "# 상황의 흐름을 train 할 수 있다 \n",
        "n_observations = len(state)\n",
        "# print(\"n_observations :\",len(state))\n",
        "\n",
        "policy_net = DQN(n_observations, n_actions).to(device)\n",
        "target_net = DQN(n_observations, n_actions).to(device)\n",
        "\n",
        "# nn.Module.load_state_dict() \n",
        "# print(\"state_dict\" ,policy_net.state_dict())\n",
        "# loads weight * bias for each layer \n",
        "# 폴리시 넷 ( 타우에 따라 늦게 업데이트 된 )의 가중치와 편향을 타겟 넷에 적재하는 과정 \n",
        "target_net.load_state_dict(policy_net.state_dict())\n",
        "\n",
        "# amsgrad = auto \n",
        "optimizer = optim.AdamW(policy_net.parameters(), lr=LR, amsgrad=True)\n",
        "\n",
        "memory = ReplayMemory(10000)\n",
        "\n",
        "steps_done = 0\n",
        "\n",
        "def select_action(state):\n",
        "    # steps_done 을 전역 변수로 설정 \n",
        "    global steps_done\n",
        "    \n",
        "    # 난수생성\n",
        "    sample = random.random()\n",
        "    \n",
        "    # epsilon을 매 스텝이 진행됨에 따라 지수적으로 증가해주는 구간 \n",
        "    # exp(0) = 1\n",
        "    # 0에 가까워질 수록 1에 수렴하는 지수함수 \n",
        "\n",
        "    # 0.05 + ( 0.85 ) * exp(-1 * 1/1000 ) -> 거의 0.05 + 0.85 \n",
        "    # 0.05 + ( 0.85 ) * exp(-1 * 1/2 ) -> 거의 0.05 + 0.085 * (0.7)\n",
        "    # 0.05 + ( 0.85 ) * exp(-1 * 1/1 ) -> 거의 0.05 + 0.85 * (0.6)\n",
        "    # 즉 STEPS DONE이 진행될수록 EPSILON이 DECAY 되게끔 작성된 코드다 \n",
        "    eps_threshold = EPS_END + (EPS_START - EPS_END) * \\\n",
        "        math.exp(-1. * steps_done / EPS_DECAY)\n",
        "    \n",
        "    steps_done += 1\n",
        "    \n",
        "    # 만약 생성한 난수가 허용치보다 높은 경우에는 \n",
        "    # Q.argmax(state)로 액션을 정한다 \n",
        "\n",
        "    # torch.no_grad()의 주된 목적은 autograd를 끔으로써 메모리 사용량을 줄이고 연산 속도를 높히기 위함\n",
        "    # 이 컨텍스트 내부에서 새로 생성된 텐서들은 requires_grad=False 상태가 되어, 메모리 사용량을 아껴준다.\n",
        "    \n",
        "    # 만약 생성한 난수가 허용치보다 낮은 경우에는 \n",
        "    # 무작위로 액션을 설정한다 \n",
        "    \n",
        "    if sample > eps_threshold:\n",
        "        with torch.no_grad():\n",
        "            # t.max(1) will return largest column value of each row.\n",
        "            # second column on max result is index of where max element was\n",
        "            # found, so we pick action with the larger expected reward.\n",
        "            return policy_net(state).max(1)[1].view(1, 1)\n",
        "    else:\n",
        "        return torch.tensor([[env.action_space.sample()]], device=device, dtype=torch.long)\n",
        "\n",
        "\n",
        "episode_durations = []\n",
        "\n",
        "\n",
        "# plot_durations for plotting \n",
        "def plot_durations(show_result=False):\n",
        "    \n",
        "    plt.figure(1)\n",
        "\n",
        "    durations_t = torch.tensor(episode_durations, dtype=torch.float)\n",
        "    \n",
        "    if show_result:\n",
        "        plt.title('Result')\n",
        "    else:\n",
        "        plt.clf()\n",
        "        plt.title('Training...')\n",
        "    \n",
        "    plt.xlabel('Episode')\n",
        "    plt.ylabel('Duration')\n",
        "    plt.plot(durations_t.numpy())\n",
        "\n",
        "    # Take 100 episode averages and plot them too\n",
        "    if len(durations_t) >= 100:\n",
        "        means = durations_t.unfold(0, 100, 1).mean(1).view(-1)\n",
        "        means = torch.cat((torch.zeros(99), means))\n",
        "        plt.plot(means.numpy())\n",
        "\n",
        "    plt.pause(0.001)  # pause a bit so that plots are updated\n",
        "    \n",
        "    if is_ipython:\n",
        "        if not show_result:\n",
        "            display.display(plt.gcf())\n",
        "            display.clear_output(wait=True)\n",
        "        else:\n",
        "            display.display(plt.gcf())"
      ],
      "metadata": {
        "id": "R-YciovIx4yf"
      },
      "execution_count": null,
      "outputs": []
    },
    {
      "cell_type": "code",
      "source": [
        "def optimize_model():\n",
        "    if len(memory) < BATCH_SIZE:\n",
        "        return\n",
        "\n",
        "    transitions = memory.sample(BATCH_SIZE)\n",
        "    # Transpose the batch (see https://stackoverflow.com/a/19343/3343043 for\n",
        "    # detailed explanation). This converts batch-array of Transitions\n",
        "    # to Transition of batch-arrays.\n",
        "    batch = Transition(*zip(*transitions))\n",
        "\n",
        "    # Compute a mask of non-final states and concatenate the batch elements\n",
        "    # (a final state would've been the one after which simulation ended)\n",
        "    non_final_mask = torch.tensor(tuple(map(lambda s: s is not None,\n",
        "                                          batch.next_state)), device=device, dtype=torch.bool)\n",
        "    non_final_next_states = torch.cat([s for s in batch.next_state if s is not None])\n",
        "    state_batch = torch.cat(batch.state)\n",
        "    action_batch = torch.cat(batch.action)\n",
        "    reward_batch = torch.cat(batch.reward)\n",
        "\n",
        "    # Compute Q(s_t, a) - the model computes Q(s_t), then we select the\n",
        "    # columns of actions taken. These are the actions which would've been taken\n",
        "    # for each batch state according to policy_net\n",
        "    state_action_values = policy_net(state_batch).gather(1, action_batch)\n",
        "\n",
        "    # Compute V(s_{t+1}) for all next states.\n",
        "    # Expected values of actions for non_final_next_states are computed based\n",
        "    # on the \"older\" target_net; selecting their best reward with max(1)[0].\n",
        "    # This is merged based on the mask, such that we'll have either the expected\n",
        "    # state value or 0 in case the state was final.\n",
        "    next_state_values = torch.zeros(BATCH_SIZE, device=device)\n",
        "    with torch.no_grad():\n",
        "        next_state_values[non_final_mask] = target_net(non_final_next_states).max(1)[0]\n",
        "    # Compute the expected Q values\n",
        "    expected_state_action_values = (next_state_values * GAMMA) + reward_batch\n",
        "\n",
        "    # Compute Huber loss\n",
        "    criterion = nn.SmoothL1Loss()\n",
        "    loss = criterion(state_action_values, expected_state_action_values.unsqueeze(1))\n",
        "\n",
        "    # Optimize the model\n",
        "    optimizer.zero_grad()\n",
        "    loss.backward()\n",
        "\n",
        "    # In-place gradient clipping\n",
        "    torch.nn.utils.clip_grad_value_(policy_net.parameters(), 100)\n",
        "    optimizer.step()"
      ],
      "metadata": {
        "id": "jNX5RrsKx65T"
      },
      "execution_count": null,
      "outputs": []
    },
    {
      "cell_type": "code",
      "source": [
        "torch.cuda.is_available()"
      ],
      "metadata": {
        "colab": {
          "base_uri": "https://localhost:8080/"
        },
        "id": "V1o-JXUxyTu9",
        "outputId": "e767f640-84c0-475a-f1e1-f04bf9d4824a"
      },
      "execution_count": null,
      "outputs": [
        {
          "output_type": "execute_result",
          "data": {
            "text/plain": [
              "False"
            ]
          },
          "metadata": {},
          "execution_count": 64
        }
      ]
    },
    {
      "cell_type": "code",
      "source": [
        "# set num_epsides ~ GPU availability\n",
        "if torch.cuda.is_available():\n",
        "    num_episodes = 600\n",
        "else:\n",
        "    num_episodes = 300\n",
        "\n",
        "# episode tranining \n",
        "for i_episode in range(num_episodes):\n",
        "    # Initialize the environment and get it's state\n",
        "    \n",
        "    # gym.__version__ 0.26 returns info without any args\n",
        "    if gym.__version__[:4] == '0.26':\n",
        "        state, _ = env.reset()\n",
        "    # gym.__version__ 0.25 args must be set True to return_info\n",
        "    elif gym.__version__[:4] == '0.25':\n",
        "        state, _ = env.reset(return_info=True)\n",
        "    # env.reset resets the state of the env and returns an initial obs.\n",
        "    # 매 에피소드가 끝나면 env state를 초기화 해줌 \n",
        "    \n",
        "    # 매번 초기화 되는 state \n",
        "    state = torch.tensor(state, dtype=torch.float32, device=device).unsqueeze(0)\n",
        "    # print(state)\n",
        "    # tensor([[0.0092, 0.0344, 0.0363, 0.0075]])\n",
        "     \n",
        "    # counts() counts each loop \n",
        "    # t -> 1 -> 2 -> 3.... end \n",
        "\n",
        "    for t in count():    \n",
        "        # takes action ( from current state )\n",
        "        action = select_action(state)\n",
        "        \n",
        "        # In the old opengym API \n",
        "        # done was returned as True if episode ends in any way.\n",
        "        # In the new API, done is split into 2 parts: terminated -> truncated \n",
        "\n",
        "        observation, reward, terminated, truncated, _ = env.step(action.item())\n",
        "        \n",
        "        # moves reward to device( cuda or cpu )\n",
        "        reward = torch.tensor([reward], device=device)\n",
        "        \n",
        "        # one loop finished anyway \n",
        "        done = terminated or truncated\n",
        "        \n",
        "        # If terminated is returned as True , there is no next_state ... so, \n",
        "        if terminated:\n",
        "            next_state = None\n",
        "        # If terminated is returned as False, next_state exists ... so, \n",
        "        # next_state가 다음과 같이 선언된다. \n",
        "        # next_state의 인풋 역시 , DQN 처음 인풋대로 4개의 STATE가 들어간다 \n",
        "        else:\n",
        "            # print(observation,\"observation\")\n",
        "            # [-0.04615159  0.23102479 -0.03562462 -0.30272973] observation\n",
        "            \n",
        "            next_state = torch.tensor(observation, dtype=torch.float32, device=device).unsqueeze(0)\n",
        "\n",
        "        # Store the transition in memory\n",
        "        # push(args) into namedtuple Transition \n",
        "        memory.push(state, action, next_state, reward)\n",
        "\n",
        "        # Move to the next state\n",
        "        state = next_state\n",
        "\n",
        "        # Perform one step of the optimization (on the policy network)\n",
        "        optimize_model()\n",
        "\n",
        "        # Soft update of the target network's weights\n",
        "        # θ′ ← τ θ + (1 −τ )θ′\n",
        "        target_net_state_dict = target_net.state_dict()\n",
        "        policy_net_state_dict = policy_net.state_dict()\n",
        "        \n",
        "        # 같은 키에 해당되는 텐서들을 계산해줌 \n",
        "        for key in policy_net_state_dict:\n",
        "            target_net_state_dict[key] = policy_net_state_dict[key]*TAU + target_net_state_dict[key]*(1-TAU)\n",
        "        \n",
        "        # 계산한 텐서들을 타겟 넷에 적재해줌 \n",
        "        target_net.load_state_dict(target_net_state_dict)\n",
        "        \n",
        "        # if terminated or truncated is true \n",
        "        # epsiode 한개는 끝났다고 생각해서 그만큼 진행을 해줌 ( 플롯을 위해서 )\n",
        "        if done:\n",
        "            episode_durations.append(t + 1)\n",
        "\n",
        "            # plot_durations() -> show_result -> False ( default )\n",
        "            plot_durations()\n",
        "            break\n",
        "\n",
        "print('Complete')\n",
        "\n",
        "# plot_durations() -> show_result false --> True ( shows result )\n",
        "plot_durations(show_result=True)\n",
        "plt.ioff()\n",
        "plt.show()"
      ],
      "metadata": {
        "colab": {
          "base_uri": "https://localhost:8080/",
          "height": 347
        },
        "id": "nocdHXhpx8wG",
        "outputId": "294cbb2a-fa7c-43ed-ae30-84d70927c78f"
      },
      "execution_count": null,
      "outputs": [
        {
          "output_type": "stream",
          "name": "stdout",
          "text": [
            "Complete\n"
          ]
        },
        {
          "output_type": "display_data",
          "data": {
            "text/plain": [
              "<Figure size 432x288 with 1 Axes>"
            ],
            "image/png": "[encoded data removed]"
          },
          "metadata": {
            "needs_background": "light"
          }
        },
        {
          "output_type": "display_data",
          "data": {
            "text/plain": [
              "<Figure size 432x288 with 0 Axes>"
            ]
          },
          "metadata": {}
        },
        {
          "output_type": "display_data",
          "data": {
            "text/plain": [
              "<Figure size 432x288 with 0 Axes>"
            ]
          },
          "metadata": {}
        }
      ]
    },
    {
      "cell_type": "code",
      "source": [],
      "metadata": {
        "id": "SK_29-QKx-2u"
      },
      "execution_count": null,
      "outputs": []
    }
  ]
}